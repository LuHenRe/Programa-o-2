{
 "cells": [
  {
   "cell_type": "markdown",
   "metadata": {
    "id": "20IXoMI3jmqI"
   },
   "source": [
    "# Encapsulamento e slots em Python#\n",
    "\n",
    "* Uma classe contêiner em Python é uma classe que contém outros objetos ou instâncias de classes, permitindo agrupar dados relacionados e fornecer uma maneira organizada de acessá-los e manipulá-los.\n",
    "* Em Python, existem várias classes contêiner built-in, como listas, tuplas, conjuntos (sets) e dicionários.\n",
    "* No entanto, você também pode criar suas próprias classes contêiner personalizadas, definindo os métodos especiais apropriados para a manipulação dos elementos contidos.\n"
   ]
  },
  {
   "cell_type": "code",
   "execution_count": 1,
   "metadata": {
    "colab": {
     "base_uri": "https://localhost:8080/"
    },
    "id": "AxsBs_4Pj8Oi",
    "outputId": "098f956c-9e0a-4156-f931-50d8c99953dd"
   },
   "outputs": [
    {
     "name": "stdout",
     "output_type": "stream",
     "text": [
      "Itens no carrinho:\n",
      "Camiseta\n",
      "Calça\n",
      "Sapatos\n",
      "\n",
      "Itens no carrinho após remoção:\n",
      "Calça\n",
      "Sapatos\n"
     ]
    }
   ],
   "source": [
    "class ShoppingCart:\n",
    "  def __init__(self):\n",
    "    self.items = [] # Usaremos uma lista para armazenar os itens do carrinho\n",
    "\n",
    "  def add_item(self, item):\n",
    "    self.items.append(item)\n",
    "\n",
    "  def remove_item(self, item):\n",
    "    self.items.remove(item)\n",
    "\n",
    "  def show_items(self):\n",
    "    for item in self.items:\n",
    "      print(item)\n",
    "# Criando uma instância da classe\n",
    "cart = ShoppingCart()\n",
    "# Adicionando itens ao carrinho\n",
    "cart.add_item(\"Camiseta\")\n",
    "cart.add_item(\"Calça\")\n",
    "cart.add_item(\"Sapatos\")\n",
    "# Exibindo os itens no carrinho\n",
    "print(\"Itens no carrinho:\")\n",
    "cart.show_items()\n",
    "# Removendo um item\n",
    "cart.remove_item(\"Camiseta\")\n",
    "# Exibindo os itens atualizados no carrinho\n",
    "print(\"\\nItens no carrinho após remoção:\")\n",
    "cart.show_items()"
   ]
  },
  {
   "cell_type": "markdown",
   "metadata": {
    "id": "yJ8HrkRNkeb6"
   },
   "source": [
    "**Exercício 1**\n",
    "\n",
    "Você foi contratado para criar um sistema de gerenciamento de alunos em uma escola. Sua tarefa é criar uma classe chamada Turma que funcionará como um contêiner para armazenar informações sobre os alunos de uma turma. A classe Turma deve incluir um construtor para inicializar os atributos e um destrutor para imprimir uma mensagem quando a instância for destruída. Além disso, você deve implementar métodos para adicionar e remover alunos da turma, bem como para listar os alunos matriculados.\n",
    "\n",
    "Requisitos:\n",
    "* A classe Turma deve conter um atributo alunos, que será uma lista para armazenar os nomes dos alunos.\n",
    "* O construtor __init__ deve aceitar o nome da turma como parâmetro e inicializar a lista de alunos.\n",
    "*A classe deve ter um método adicionar_aluno que permita adicionar um aluno à turma.\n",
    "*A classe deve ter um método remover_aluno que permita remover um aluno da turma.\n",
    "*A classe deve ter um método listar_alunos que exiba os nomes dos alunos matriculados.\n",
    "*O destrutor __del__ deve imprimir uma mensagem informando que a instância da turma está sendo destruída.\n"
   ]
  },
  {
   "cell_type": "code",
   "execution_count": 13,
   "metadata": {
    "id": "Ynj7Vemgkzfb"
   },
   "outputs": [
    {
     "name": "stdout",
     "output_type": "stream",
     "text": [
      "Lista de alunos:\n",
      "Luiz\n",
      "Carlos\n",
      "Henrique\n",
      "\n",
      "Lista de aluno após remoção:\n",
      "Luiz\n",
      "Carlos\n",
      "A instância da turma está sendo destruída.\n"
     ]
    }
   ],
   "source": [
    "class Turma:\n",
    "    def __init__(self, NomeTurma):\n",
    "        self.alunos = []\n",
    "        self.NomeTurma = NomeTurma\n",
    "\n",
    "    def adicionar_aluno(self, aluno):\n",
    "        self.alunos.append(aluno)\n",
    "\n",
    "    def remover_aluno(self, aluno):\n",
    "        self.alunos.remove(aluno)\n",
    "\n",
    "    def listar_alunos(self):\n",
    "        for aluno in self.alunos:\n",
    "            print(aluno)\n",
    "\n",
    "    def __del__(self):\n",
    "        print(\"A instância da turma está sendo destruída.\")\n",
    "\n",
    "bsi = Turma(\"BSI\")\n",
    "bsi.adicionar_aluno(\"Luiz\")\n",
    "bsi.adicionar_aluno(\"Carlos\")\n",
    "bsi.adicionar_aluno(\"Henrique\")\n",
    "\n",
    "print(\"Lista de alunos:\")\n",
    "bsi.listar_alunos()\n",
    "\n",
    "bsi.remover_aluno(\"Henrique\")\n",
    "print(\"\\nLista de aluno após remoção:\")\n",
    "bsi.listar_alunos()\n",
    "\n",
    "del bsi"
   ]
  },
  {
   "cell_type": "markdown",
   "metadata": {
    "id": "o3jc03_JlBR7"
   },
   "source": [
    "**Encapsulamento**\n",
    "\n",
    "* O encapsulamento envolve a ideia de esconder os detalhes de implementação internos de uma classe.\n",
    "* Isso protege os atributos e métodos internos de acesso e manipulação indesejados.\n",
    "* Encapsulamento ajuda a manter a coesão e reduz o acoplamento entre classes.\n",
    "* Os membros **protegidos** são indicados por um único underscore (_) como prefixo (_nome).\n",
    "* Embora sejam acessíveis fora da classe, convenciona-se que devem ser tratados como \"privados\".\n",
    "* Os membros **privados** são indicados por dois underscores (__) como prefixo (__nome).\n",
    "* Eles são usados para indicar que o acesso deve ser restrito à própria classe.\n"
   ]
  },
  {
   "cell_type": "code",
   "execution_count": 14,
   "metadata": {
    "id": "LguZLiSLljUX"
   },
   "outputs": [
    {
     "name": "stdout",
     "output_type": "stream",
     "text": [
      "Eduardo\n"
     ]
    }
   ],
   "source": [
    "class Pessoa:\n",
    "    def __init__(self, nome):\n",
    "        self.nome = nome  # Atributo público\n",
    "\n",
    "Funcionario = Pessoa(\"Eduardo\")\n",
    "print(Funcionario.nome)"
   ]
  },
  {
   "cell_type": "code",
   "execution_count": 15,
   "metadata": {
    "id": "-GCpbUZclnBF"
   },
   "outputs": [
    {
     "ename": "AttributeError",
     "evalue": "'Pessoa' object has no attribute '__nome'",
     "output_type": "error",
     "traceback": [
      "\u001b[1;31m---------------------------------------------------------------------------\u001b[0m",
      "\u001b[1;31mAttributeError\u001b[0m                            Traceback (most recent call last)",
      "Cell \u001b[1;32mIn[15], line 6\u001b[0m\n\u001b[0;32m      3\u001b[0m         \u001b[38;5;28mself\u001b[39m\u001b[38;5;241m.\u001b[39m__nome \u001b[38;5;241m=\u001b[39m nome  \u001b[38;5;66;03m# Atributo protegido\u001b[39;00m\n\u001b[0;32m      5\u001b[0m Funcionario \u001b[38;5;241m=\u001b[39m Pessoa(\u001b[38;5;124m\"\u001b[39m\u001b[38;5;124mEduardo\u001b[39m\u001b[38;5;124m\"\u001b[39m)\n\u001b[1;32m----> 6\u001b[0m \u001b[38;5;28mprint\u001b[39m(\u001b[43mFuncionario\u001b[49m\u001b[38;5;241;43m.\u001b[39;49m\u001b[43m__nome\u001b[49m)\n",
      "\u001b[1;31mAttributeError\u001b[0m: 'Pessoa' object has no attribute '__nome'"
     ]
    }
   ],
   "source": [
    "class Pessoa:\n",
    "    def __init__(self, nome):\n",
    "        self.__nome = nome  # Atributo protegido\n",
    "\n",
    "Funcionario = Pessoa(\"Eduardo\")\n",
    "print(Funcionario.__nome)"
   ]
  },
  {
   "cell_type": "markdown",
   "metadata": {
    "id": "MSVahFkIlzJL"
   },
   "source": [
    "**Exercício 2**\n",
    "\n",
    "Crie uma classe chamada ContaBancaria que encapsule informações sobre uma conta bancária. A classe deve ter os seguintes métodos públicos:\n",
    "* __init__(self, titular, saldo_inicial): Um construtor que recebe o nome do titular da conta e o saldo inicial e inicializa atributos privados _titular e _saldo.\n",
    "* depositar(self, valor): Um método que permite ao titular da conta depositar dinheiro na conta. Este método deve atualizar o saldo da conta.\n",
    "* sacar(self, valor): Um método que permite ao titular da conta sacar dinheiro da conta, desde que haja saldo suficiente. Este método deve atualizar o saldo da conta.\n",
    "* saldo(self): Um método que retorna o saldo atual da conta.\n",
    "* Certifique-se de que _saldo seja privado e que não possa ser acessado diretamente de fora da classe. Use métodos públicos para interagir com o saldo.\n"
   ]
  },
  {
   "cell_type": "code",
   "execution_count": 23,
   "metadata": {},
   "outputs": [
    {
     "name": "stdout",
     "output_type": "stream",
     "text": [
      "Depósito de R$500.00 realizado com sucesso.\n",
      "Saque de R$200.00 realizado com sucesso.\n",
      "Saldo atual da conta de Alice: R$1300\n"
     ]
    }
   ],
   "source": [
    "class ContaBancaria:\n",
    "    def __init__(self, titular, saldo_inicial):\n",
    "        self._titular = titular\n",
    "        self._saldo = saldo_inicial\n",
    "\n",
    "    def depositar(self, valor):\n",
    "        if valor > 0:\n",
    "            self._saldo += valor\n",
    "            print(f\"Depósito de R${valor:.2f} realizado com sucesso.\")\n",
    "        else:\n",
    "            print(\"O valor do depósito deve ser positivo.\")\n",
    "\n",
    "    def sacar(self, valor):\n",
    "        if valor > 0:\n",
    "            if valor <= self._saldo:\n",
    "                self._saldo -= valor\n",
    "                print(f\"Saque de R${valor:.2f} realizado com sucesso.\")\n",
    "            else:\n",
    "                print(\"Saldo insuficiente para realizar o saque.\")\n",
    "        else:\n",
    "            print(\"O valor do saque deve ser positivo.\")\n",
    "\n",
    "    def saldo(self):\n",
    "        return self._saldo\n",
    "\n",
    "# Criando uma instância da classe ContaBancaria\n",
    "conta = ContaBancaria(\"Alice\", 1000)\n",
    "\n",
    "# Depositando dinheiro na conta\n",
    "conta.depositar(500)\n",
    "\n",
    "# Sacando dinheiro da conta\n",
    "conta.sacar(200)\n",
    "\n",
    "# Verificando o saldo da conta\n",
    "print(f\"Saldo atual da conta de {conta._titular}: R${conta.saldo()}\")\n"
   ]
  },
  {
   "cell_type": "markdown",
   "metadata": {
    "id": "XBt1oFHImEEK"
   },
   "source": [
    "**Métodos Get e Set na POO**\n",
    "\n",
    "* Na programação orientada a objetos (POO), os métodos Get e Set são utilizados para acessar e modificar os atributos de uma classe de maneira controlada.\n",
    "* Eles desempenham um papel importante na aplicação do princípio de encapsulamento, que visa proteger os atributos de uma classe e fornecer uma interface controlada para interagir com eles.\n"
   ]
  },
  {
   "cell_type": "code",
   "execution_count": 24,
   "metadata": {
    "id": "_V6lBIJamPWD"
   },
   "outputs": [
    {
     "name": "stdout",
     "output_type": "stream",
     "text": [
      "Alice\n"
     ]
    }
   ],
   "source": [
    "class Pessoa:\n",
    "    def __init__(self, nome):\n",
    "        self.__nome = nome  # Atributo privado\n",
    "\n",
    "    def get_nome(self):\n",
    "        return self.__nome  # Método get para acessar o atributo privado\n",
    "\n",
    "pessoa = Pessoa(\"Alice\")\n",
    "nome_da_pessoa = pessoa.get_nome()\n",
    "print(nome_da_pessoa)  # Saída: Alice\n"
   ]
  },
  {
   "cell_type": "code",
   "execution_count": 25,
   "metadata": {
    "id": "_kItleQCmZZ0"
   },
   "outputs": [
    {
     "name": "stdout",
     "output_type": "stream",
     "text": [
      "1000\n",
      "1000\n"
     ]
    }
   ],
   "source": [
    "class ContaBancaria:\n",
    "    def __init__(self):\n",
    "        self.__saldo = 0  # Atributo privado\n",
    "\n",
    "    def set_saldo(self, novo_saldo):\n",
    "        if novo_saldo >= 0:\n",
    "            self.__saldo = novo_saldo  # Método set com validação\n",
    "\n",
    "    def get_saldo(self):\n",
    "        return self.__saldo\n",
    "\n",
    "conta = ContaBancaria()\n",
    "conta.set_saldo(1000)\n",
    "print(conta.get_saldo())  # Saída: 1000\n",
    "conta.set_saldo(-500)  # Não alterará o saldo, pois a validação falha\n",
    "print(conta.get_saldo())  # Ainda será 1000\n"
   ]
  },
  {
   "cell_type": "markdown",
   "metadata": {
    "id": "bFddJqlDmovH"
   },
   "source": [
    "**Exercício 3**\n",
    "\n",
    "Encapsule os atributos da classe Pessoa para torná-los privados e forneça métodos get e set para acessá-los."
   ]
  },
  {
   "cell_type": "code",
   "execution_count": 31,
   "metadata": {
    "id": "SqQ8jg25mtgp"
   },
   "outputs": [
    {
     "name": "stdout",
     "output_type": "stream",
     "text": [
      "Luiz\n",
      "19\n",
      "M\n"
     ]
    }
   ],
   "source": [
    "class Pessoa:\n",
    "    def __init__(self, nome, idade, sexo):\n",
    "        self.__nome = nome\n",
    "        self.__idade = idade\n",
    "        self.__sexo = sexo\n",
    "\n",
    "    def set_nome(self, novo_nome):\n",
    "        self.__nome = novo_nome\n",
    "\n",
    "    def set_idade(self, nova_idade):\n",
    "        if nova_idade >= 0:\n",
    "            self.__idade = nova_idade\n",
    "\n",
    "    def set_sexo(self, novo_sexo):\n",
    "        self.__sexo = novo_sexo\n",
    "    \n",
    "    def get_nome(self):\n",
    "        return self.__nome\n",
    "    \n",
    "    def get_idade(self):\n",
    "        return self.__idade\n",
    "    \n",
    "    def get_sexo(self):\n",
    "        return self.__sexo\n",
    "    \n",
    "pessoa = Pessoa(\"Alice\", 20, \"F\")\n",
    "pessoa.set_nome(\"Luiz\")\n",
    "pessoa.set_idade(19)\n",
    "pessoa.set_sexo(\"M\")\n",
    "print(pessoa.get_nome())\n",
    "print(pessoa.get_idade())\n",
    "print(pessoa.get_sexo())"
   ]
  },
  {
   "cell_type": "code",
   "execution_count": 1,
   "metadata": {},
   "outputs": [
    {
     "name": "stdout",
     "output_type": "stream",
     "text": [
      "Luiz\n",
      "19\n",
      "M\n"
     ]
    }
   ],
   "source": [
    "class Pessoa:\n",
    "    def __init__(self):\n",
    "        self.__nome = \"\"\n",
    "        self.__idade = \"\"\n",
    "        self.__sexo = \"\"\n",
    "\n",
    "    def set_nome(self, novo_nome):\n",
    "        self.__nome = novo_nome\n",
    "\n",
    "    def set_idade(self, nova_idade):\n",
    "        if nova_idade >= 0:\n",
    "            self.__idade = nova_idade\n",
    "\n",
    "    def set_sexo(self, novo_sexo):\n",
    "        self.__sexo = novo_sexo\n",
    "    \n",
    "    def get_nome(self):\n",
    "        return self.__nome\n",
    "    \n",
    "    def get_idade(self):\n",
    "        return self.__idade\n",
    "    \n",
    "    def get_sexo(self):\n",
    "        return self.__sexo\n",
    "    \n",
    "pessoa = Pessoa()\n",
    "pessoa.set_nome(\"Luiz\")\n",
    "pessoa.set_idade(19)\n",
    "pessoa.set_sexo(\"M\")\n",
    "print(pessoa.get_nome())\n",
    "print(pessoa.get_idade())\n",
    "print(pessoa.get_sexo())"
   ]
  },
  {
   "cell_type": "markdown",
   "metadata": {
    "id": "kizXgYmvm3Su"
   },
   "source": [
    "**Métodos de Classe**\n",
    "\n",
    "* Os métodos de classe em Python não dependem do estado da instância.\n",
    "* Eles são declarados com o decorador @classmethod.\n",
    "* São usados quando queremos operar na classe em vez de em uma instância.\n",
    "* Observação: A principal diferença entre o parâmetro cls e o parâmetro self (usado em métodos de instância) é que self refere-se à instância específica da classe, enquanto cls refere-se à própria classe.\n",
    "* Isso torna cls útil para operações que envolvem a classe como um todo e para definir métodos de classe.\n"
   ]
  },
  {
   "cell_type": "code",
   "execution_count": 33,
   "metadata": {
    "id": "jEbmf3NOnIm0"
   },
   "outputs": [
    {
     "name": "stdout",
     "output_type": "stream",
     "text": [
      "25\n"
     ]
    }
   ],
   "source": [
    "class MathUtils:\n",
    "    @classmethod\n",
    "    def square(cls, num):\n",
    "        return num ** 2\n",
    "\n",
    "print(MathUtils.square(5))"
   ]
  },
  {
   "cell_type": "code",
   "execution_count": 36,
   "metadata": {},
   "outputs": [
    {
     "name": "stdout",
     "output_type": "stream",
     "text": [
      "25\n"
     ]
    }
   ],
   "source": [
    "class MathUtils:\n",
    "    def square(self, num):\n",
    "        return num ** 2\n",
    "    \n",
    "math_utils = MathUtils()\n",
    "print(math_utils.square(5))"
   ]
  },
  {
   "cell_type": "markdown",
   "metadata": {
    "id": "tijE8qYynUNw"
   },
   "source": [
    "**Exercício 4**\n",
    "\n",
    "Crie uma classe chamada Matematica com um método de classe que calcula a média de uma lista de números."
   ]
  },
  {
   "cell_type": "code",
   "execution_count": 42,
   "metadata": {},
   "outputs": [
    {
     "name": "stdout",
     "output_type": "stream",
     "text": [
      "2.0\n"
     ]
    }
   ],
   "source": [
    "class Matematica:\n",
    "    @classmethod\n",
    "    def media(cls, *nums):\n",
    "        if not nums:\n",
    "            return 0\n",
    "        soma = sum(nums)\n",
    "        qtd = len(nums)\n",
    "        return soma / qtd\n",
    "\n",
    "print(Matematica.media(1, 2, 3))"
   ]
  },
  {
   "cell_type": "code",
   "execution_count": 2,
   "metadata": {},
   "outputs": [
    {
     "name": "stdout",
     "output_type": "stream",
     "text": [
      "2.0\n"
     ]
    }
   ],
   "source": [
    "class Matematica:\n",
    "    @classmethod\n",
    "    def media(cls, *nums):\n",
    "        if not nums:\n",
    "            return 0\n",
    "        lista = []\n",
    "        for num in nums:\n",
    "            lista.append(num)\n",
    "        soma = sum(lista)\n",
    "        qtd = len(lista)\n",
    "        return soma / qtd\n",
    "\n",
    "print(Matematica.media(1, 2, 3))"
   ]
  },
  {
   "cell_type": "markdown",
   "metadata": {
    "id": "sFCaUYOQnas6"
   },
   "source": [
    "**Métodos Estáticos**\n",
    "\n",
    "* São métodos definidos em uma classe que não dependem de atributos específicos de instância ou de classe.\n",
    "* Eles são métodos que não requerem acesso a atributos ou métodos de instância e, portanto, não recebem o parâmetro self.\n",
    "* Os métodos estáticos são associados à classe em vez de instâncias individuais, e podem ser chamados diretamente na classe sem a necessidade de criar um objeto.\n",
    "* Métodos estáticos são úteis quando você precisa de uma funcionalidade que pertence à classe como um todo, mas não precisa acessar os atributos específicos de instância ou classe.\n",
    "* Eles são definidos usando o decorador @staticmethod antes da definição do método.\n"
   ]
  },
  {
   "cell_type": "code",
   "execution_count": 4,
   "metadata": {
    "id": "UJqr1wIznlML"
   },
   "outputs": [
    {
     "name": "stdout",
     "output_type": "stream",
     "text": [
      "Soma: 8\n",
      "Subtração: 3\n"
     ]
    }
   ],
   "source": [
    "class MathUtils:\n",
    "    @staticmethod\n",
    "    def add(a, b):\n",
    "        return a + b\n",
    "\n",
    "    @staticmethod\n",
    "    def subtract(a, b):\n",
    "        return a - b\n",
    "\n",
    "# Chamando métodos estáticos diretamente na classe\n",
    "sum_result = MathUtils.add(5, 3)\n",
    "diff_result = MathUtils.subtract(10, 7)\n",
    "\n",
    "print(\"Soma:\", sum_result)      # Saída: Soma: 8\n",
    "print(\"Subtração:\", diff_result) # Saída: Subtração: 3\n"
   ]
  },
  {
   "cell_type": "code",
   "execution_count": 5,
   "metadata": {},
   "outputs": [
    {
     "name": "stdout",
     "output_type": "stream",
     "text": [
      "Soma: 8\n",
      "Subtração: 3\n"
     ]
    }
   ],
   "source": [
    "class MathUtils:\n",
    "    @classmethod\n",
    "    def add(cls, a, b):\n",
    "        return a + b\n",
    "\n",
    "    @classmethod\n",
    "    def subtract(cls, a, b):\n",
    "        return a - b\n",
    "\n",
    "# Chamando métodos estáticos diretamente na classe\n",
    "sum_result = MathUtils.add(5, 3)\n",
    "diff_result = MathUtils.subtract(10, 7)\n",
    "\n",
    "print(\"Soma:\", sum_result)      # Saída: Soma: 8\n",
    "print(\"Subtração:\", diff_result) # Saída: Subtração: 3\n"
   ]
  },
  {
   "cell_type": "markdown",
   "metadata": {
    "id": "HU_qihVUoGVn"
   },
   "source": [
    "**Exercício 5**\n",
    "\n",
    "Crie um método estático na classe Carro que imprime uma mensagem genérica sobre carros."
   ]
  },
  {
   "cell_type": "code",
   "execution_count": 2,
   "metadata": {
    "id": "RtEy2h0woNaa"
   },
   "outputs": [
    {
     "name": "stdout",
     "output_type": "stream",
     "text": [
      "Carros são legais :)\n"
     ]
    }
   ],
   "source": [
    "class Carro:\n",
    "    @staticmethod\n",
    "    def mensagem():\n",
    "        return \"Carros são legais :)\"\n",
    "    \n",
    "print(Carro.mensagem())"
   ]
  },
  {
   "cell_type": "code",
   "execution_count": 3,
   "metadata": {},
   "outputs": [
    {
     "name": "stdout",
     "output_type": "stream",
     "text": [
      "Carros são legais :)\n"
     ]
    }
   ],
   "source": [
    "class Carro:\n",
    "    @classmethod\n",
    "    def mensagem(cls):\n",
    "        return \"Carros são legais :)\"\n",
    "    \n",
    "print(Carro.mensagem())"
   ]
  },
  {
   "cell_type": "markdown",
   "metadata": {
    "id": "5-yRAr5dntBk"
   },
   "source": [
    "**Slots**\n",
    "\n",
    "* Os slots (também conhecidos como \"caixas\") são uma característica que permite otimizar a utilização de memória e acelerar o acesso a atributos em objetos.\n",
    "* A ideia principal dos slots é restringir dinamicamente os atributos que podem ser definidos em uma instância de classe, o que pode ser útil em situações onde você precisa controlar os atributos que podem ser adicionados a objetos.\n",
    "* Normalmente, em Python, você pode adicionar atributos a objetos em tempo de execução, mesmo que eles não tenham sido definidos na classe.\n",
    "* Isso é possível graças à flexibilidade dinâmica da linguagem.\n",
    "* No entanto, essa flexibilidade pode ter um impacto negativo na utilização de memória, principalmente quando você tem muitas instâncias da mesma classe.\n",
    "* Os slots permitem definir explicitamente quais atributos uma classe pode ter e, consequentemente, otimizar o consumo de memória. Isso é feito através da definição de uma lista de nomes de atributos permitidos na forma de uma variável de classe chamada __slots__.\n"
   ]
  },
  {
   "cell_type": "code",
   "execution_count": 3,
   "metadata": {
    "id": "by-rrYiln57H"
   },
   "outputs": [
    {
     "name": "stdout",
     "output_type": "stream",
     "text": [
      "Alice\n",
      "30\n"
     ]
    },
    {
     "ename": "AttributeError",
     "evalue": "'Pessoa' object has no attribute 'email' and no __dict__ for setting new attributes",
     "output_type": "error",
     "traceback": [
      "\u001b[1;31m---------------------------------------------------------------------------\u001b[0m",
      "\u001b[1;31mAttributeError\u001b[0m                            Traceback (most recent call last)",
      "Cell \u001b[1;32mIn[3], line 12\u001b[0m\n\u001b[0;32m      9\u001b[0m \u001b[38;5;28mprint\u001b[39m(pessoa\u001b[38;5;241m.\u001b[39mnome)   \u001b[38;5;66;03m# Saída: Alice\u001b[39;00m\n\u001b[0;32m     10\u001b[0m \u001b[38;5;28mprint\u001b[39m(pessoa\u001b[38;5;241m.\u001b[39midade)  \u001b[38;5;66;03m# Saída: 30\u001b[39;00m\n\u001b[1;32m---> 12\u001b[0m \u001b[43mpessoa\u001b[49m\u001b[38;5;241;43m.\u001b[39;49m\u001b[43memail\u001b[49m \u001b[38;5;241m=\u001b[39m \u001b[38;5;124m\"\u001b[39m\u001b[38;5;124malice@example.com\u001b[39m\u001b[38;5;124m\"\u001b[39m  \u001b[38;5;66;03m# Isso resultará em um erro, pois \"email\" não está nos slots\u001b[39;00m\n",
      "\u001b[1;31mAttributeError\u001b[0m: 'Pessoa' object has no attribute 'email' and no __dict__ for setting new attributes"
     ]
    }
   ],
   "source": [
    "class Pessoa:\n",
    "    __slots__ = [\"nome\", \"idade\"]\n",
    "\n",
    "    def __init__(self, nome, idade):\n",
    "        self.nome = nome\n",
    "        self.idade = idade\n",
    "\n",
    "pessoa = Pessoa(\"Alice\", 30)\n",
    "print(pessoa.nome)   # Saída: Alice\n",
    "print(pessoa.idade)  # Saída: 30\n",
    "\n",
    "pessoa.email = \"alice@example.com\"  # Isso resultará em um erro, pois \"email\" não está nos slots\n"
   ]
  },
  {
   "cell_type": "markdown",
   "metadata": {
    "id": "kI6-XQv4oURz"
   },
   "source": [
    "**Exercício 6**\n",
    "\n",
    "Crie uma classe Estudante com atributos como nome, idade e matrícula. Use slots para otimizar a memória."
   ]
  },
  {
   "cell_type": "code",
   "execution_count": 4,
   "metadata": {
    "id": "wtex83ReodwK"
   },
   "outputs": [
    {
     "name": "stdout",
     "output_type": "stream",
     "text": [
      "Luiz\n",
      "19\n",
      "001\n"
     ]
    }
   ],
   "source": [
    "class Estudante:\n",
    "    __slots__ = [\"nome\", \"idade\", \"matricula\"]\n",
    "\n",
    "    def __init__(self, nome, idade, matricula):\n",
    "        self.nome = nome\n",
    "        self.idade = idade\n",
    "        self.matricula = matricula\n",
    "\n",
    "aluno = Estudante(\"Luiz\", 19, \"001\")\n",
    "print(aluno.nome)\n",
    "print(aluno.idade)\n",
    "print(aluno.matricula)"
   ]
  }
 ],
 "metadata": {
  "colab": {
   "provenance": []
  },
  "kernelspec": {
   "display_name": "Python 3",
   "name": "python3"
  },
  "language_info": {
   "codemirror_mode": {
    "name": "ipython",
    "version": 3
   },
   "file_extension": ".py",
   "mimetype": "text/x-python",
   "name": "python",
   "nbconvert_exporter": "python",
   "pygments_lexer": "ipython3",
   "version": "3.13.0"
  }
 },
 "nbformat": 4,
 "nbformat_minor": 0
}
