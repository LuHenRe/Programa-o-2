{
 "cells": [
  {
   "cell_type": "markdown",
   "metadata": {},
   "source": [
    "# Primeira aula de Programação\n",
    "- Anotações pertinentes"
   ]
  },
  {
   "cell_type": "markdown",
   "metadata": {},
   "source": [
    "Cálculo de fatorial"
   ]
  },
  {
   "cell_type": "code",
   "execution_count": 6,
   "metadata": {},
   "outputs": [
    {
     "name": "stdout",
     "output_type": "stream",
     "text": [
      "O fatorial de 6 é 720\n"
     ]
    }
   ],
   "source": [
    "numero = int(input(\"Digite um número inteiro para calcular o fatorial: \"))\n",
    "fatorial = 1\n",
    "\n",
    "for i in range(1, numero + 1):\n",
    "    fatorial *= i\n",
    "\n",
    "print(f\"O fatorial de {numero} é {fatorial}\")"
   ]
  },
  {
   "cell_type": "code",
   "execution_count": 7,
   "metadata": {},
   "outputs": [
    {
     "name": "stdout",
     "output_type": "stream",
     "text": [
      "O fatorial de 6 é 720\n"
     ]
    }
   ],
   "source": [
    "def fatorial(n): return 1 if n == 0 else n * fatorial(n - 1)\n",
    "\n",
    "numero = int(input(\"Digite um número inteiro para calcular o fatorial: \"))\n",
    "resultado = fatorial(numero)\n",
    "print(f\"O fatorial de {numero} é {resultado}\")"
   ]
  },
  {
   "cell_type": "markdown",
   "metadata": {},
   "source": [
    "A instrução continue é usada para pular para a próxima iteração do loop sem executar o restante do código no loop."
   ]
  },
  {
   "cell_type": "code",
   "execution_count": 8,
   "metadata": {},
   "outputs": [
    {
     "name": "stdout",
     "output_type": "stream",
     "text": [
      "1\n",
      "5\n"
     ]
    }
   ],
   "source": [
    "for i in range(1, 6, 2):\n",
    "    if i == 3:\n",
    "        continue\n",
    "    print(i)"
   ]
  },
  {
   "cell_type": "markdown",
   "metadata": {},
   "source": [
    "# Função random"
   ]
  },
  {
   "cell_type": "code",
   "execution_count": 9,
   "metadata": {},
   "outputs": [
    {
     "name": "stdout",
     "output_type": "stream",
     "text": [
      "63\n"
     ]
    }
   ],
   "source": [
    "import random\n",
    "\n",
    "numero_aleatorio = random.randint(1, 100)\n",
    "print(numero_aleatorio)"
   ]
  },
  {
   "cell_type": "code",
   "execution_count": 10,
   "metadata": {},
   "outputs": [
    {
     "name": "stdout",
     "output_type": "stream",
     "text": [
      "0.17349973177062383\n",
      "19.961803558988635\n"
     ]
    }
   ],
   "source": [
    "import random\n",
    "\n",
    "numero_aleatorio = random.random()\n",
    "print(numero_aleatorio)\n",
    "\n",
    "numero_aleatorio_intervalo = random.uniform(10, 20)\n",
    "print(numero_aleatorio_intervalo)"
   ]
  },
  {
   "cell_type": "code",
   "execution_count": 11,
   "metadata": {},
   "outputs": [
    {
     "name": "stdout",
     "output_type": "stream",
     "text": [
      "3\n"
     ]
    }
   ],
   "source": [
    "import random\n",
    "\n",
    "lista = [1, 2, 3, 4, 5]\n",
    "elemento_aleatorio = random.choice(lista)\n",
    "print(elemento_aleatorio)"
   ]
  },
  {
   "cell_type": "code",
   "execution_count": 12,
   "metadata": {},
   "outputs": [
    {
     "name": "stdout",
     "output_type": "stream",
     "text": [
      "[1, 2, 3, 5, 4]\n"
     ]
    }
   ],
   "source": [
    "import random\n",
    "\n",
    "lista = [1, 2, 3, 4, 5]\n",
    "random.shuffle(lista)\n",
    "print(lista)"
   ]
  },
  {
   "cell_type": "markdown",
   "metadata": {},
   "source": [
    "# Função sorted (Ordena)"
   ]
  },
  {
   "cell_type": "code",
   "execution_count": 13,
   "metadata": {},
   "outputs": [
    {
     "name": "stdout",
     "output_type": "stream",
     "text": [
      "[1, 1, 2, 3, 3, 4, 5, 5, 5, 6, 9]\n"
     ]
    }
   ],
   "source": [
    "numeros = [3, 1, 4, 1, 5, 9, 2, 6, 5, 3, 5]\n",
    "numeros_ordenados = sorted(numeros)\n",
    "print(numeros_ordenados)"
   ]
  },
  {
   "cell_type": "code",
   "execution_count": 14,
   "metadata": {},
   "outputs": [
    {
     "name": "stdout",
     "output_type": "stream",
     "text": [
      "['maçã', 'banana', 'laranja', 'abacaxi']\n"
     ]
    }
   ],
   "source": [
    "palavras = [\"banana\", \"maçã\", \"laranja\", \"abacaxi\"]\n",
    "palavras_ordenadas = sorted(palavras, key=len)\n",
    "print(palavras_ordenadas)"
   ]
  },
  {
   "cell_type": "markdown",
   "metadata": {},
   "source": [
    "# 1. Listas:\n",
    "\n",
    "* Listas são coleções ordenadas e mutáveis de valores.\n",
    "* Podem conter elementos de diferentes tipos.\n",
    "* São definidas utilizando colchetes [].\n",
    "nomes = [\"Alice\", \"Bob\", \"Carol\", \"David\"]"
   ]
  },
  {
   "cell_type": "markdown",
   "metadata": {},
   "source": [
    "Usamos índices (começando de 0) para acessar elementos individuais em uma lista."
   ]
  },
  {
   "cell_type": "code",
   "execution_count": 2,
   "metadata": {},
   "outputs": [
    {
     "name": "stdout",
     "output_type": "stream",
     "text": [
      "Alice\n"
     ]
    }
   ],
   "source": [
    "nomes = [\"Alice\", \"Bob\", \"Carol\", \"David\"]\n",
    "print(nomes[0])"
   ]
  },
  {
   "cell_type": "markdown",
   "metadata": {},
   "source": [
    "remove() para remover um elemento específico pelo valor."
   ]
  },
  {
   "cell_type": "code",
   "execution_count": 15,
   "metadata": {},
   "outputs": [
    {
     "name": "stdout",
     "output_type": "stream",
     "text": [
      "['Alice', 'Carol', 'David']\n"
     ]
    }
   ],
   "source": [
    "nomes.remove(\"Bob\")\n",
    "print(nomes)"
   ]
  },
  {
   "cell_type": "markdown",
   "metadata": {},
   "source": [
    "pop() para remover um elemento pelo índice."
   ]
  },
  {
   "cell_type": "code",
   "execution_count": 16,
   "metadata": {},
   "outputs": [
    {
     "name": "stdout",
     "output_type": "stream",
     "text": [
      "['Alice', 'David']\n"
     ]
    }
   ],
   "source": [
    "nomes.pop(1)\n",
    "print(nomes)"
   ]
  },
  {
   "cell_type": "markdown",
   "metadata": {},
   "source": [
    "Atualizar elementos: Atribua um novo valor a um índice específico."
   ]
  },
  {
   "cell_type": "code",
   "execution_count": 17,
   "metadata": {},
   "outputs": [
    {
     "name": "stdout",
     "output_type": "stream",
     "text": [
      "['Alicia', 'David']\n"
     ]
    }
   ],
   "source": [
    "nomes[0] = \"Alicia\"\n",
    "print(nomes)"
   ]
  },
  {
   "cell_type": "markdown",
   "metadata": {},
   "source": [
    "# 2. Tuplas:\n",
    "* Tuplas são coleções ordenadas e imutáveis de valores.\n",
    "*Geralmente usadas para armazenar elementos relacionados.\n",
    "* São definidas utilizando parênteses ().\n",
    "\n",
    "Acesso a Elementos:\n",
    "\n",
    "Assim como nas listas, usamos índices para acessar elementos em tuplas."
   ]
  },
  {
   "cell_type": "code",
   "execution_count": 18,
   "metadata": {},
   "outputs": [
    {
     "name": "stdout",
     "output_type": "stream",
     "text": [
      "10\n",
      "20\n"
     ]
    }
   ],
   "source": [
    "coordenadas = (10, 20)\n",
    "print(coordenadas[0])\n",
    "print(coordenadas[1])"
   ]
  },
  {
   "cell_type": "markdown",
   "metadata": {},
   "source": [
    "Como as tuplas são imutáveis, não é possível adicionar ou remover elementos após a criação.\n",
    "No entanto, você pode reatribuir uma tupla inteira para alterar seus elementos."
   ]
  },
  {
   "cell_type": "markdown",
   "metadata": {},
   "source": [
    "# 3. Conjuntos:\n",
    "\n",
    "* Conjuntos são coleções não ordenadas e mutáveis de valores únicos.\n",
    "* Não permitem duplicatas.\n",
    "* São definidos utilizando chaves {} ou a função set()."
   ]
  },
  {
   "cell_type": "markdown",
   "metadata": {},
   "source": [
    "add() para adicionar um elemento ao conjunto."
   ]
  },
  {
   "cell_type": "code",
   "execution_count": null,
   "metadata": {},
   "outputs": [
    {
     "name": "stdout",
     "output_type": "stream",
     "text": [
      "{1, 2, 3, 4, 5}\n"
     ]
    }
   ],
   "source": [
    "numeros = {1, 2, 3, 4, 5}\n",
    "numeros.add(6)\n",
    "print(numeros)\n",
    "print(numeros)"
   ]
  },
  {
   "cell_type": "markdown",
   "metadata": {},
   "source": [
    "* Devido à natureza não ordenada dos conjuntos, não é possível acessar elementos por índices."
   ]
  },
  {
   "cell_type": "markdown",
   "metadata": {},
   "source": [
    "remove() para remover um elemento específico"
   ]
  },
  {
   "cell_type": "code",
   "execution_count": 4,
   "metadata": {},
   "outputs": [
    {
     "name": "stdout",
     "output_type": "stream",
     "text": [
      "{2, 3, 4, 5}\n"
     ]
    }
   ],
   "source": [
    "numeros.remove(1)\n",
    "print(numeros)"
   ]
  },
  {
   "cell_type": "markdown",
   "metadata": {},
   "source": [
    "discard() para remover sem gerar erro se o elemento não existir."
   ]
  },
  {
   "cell_type": "code",
   "execution_count": 5,
   "metadata": {},
   "outputs": [
    {
     "name": "stdout",
     "output_type": "stream",
     "text": [
      "{2, 3, 4, 5}\n"
     ]
    }
   ],
   "source": [
    "numeros.discard(6)\n",
    "print(numeros)"
   ]
  },
  {
   "cell_type": "markdown",
   "metadata": {},
   "source": [
    "# 4. Dicionários:\n",
    "\n",
    "* Dicionários são coleções não ordenadas de pares chave-valor.\n",
    "* Cada valor é acessado por meio de sua chave, que deve ser única.\n",
    "* São definidos utilizando chaves {} e pares chave-valor separados por :."
   ]
  },
  {
   "cell_type": "markdown",
   "metadata": {},
   "source": [
    "Adicionar elementos: Atribua um valor a uma nova chave."
   ]
  },
  {
   "cell_type": "code",
   "execution_count": 19,
   "metadata": {},
   "outputs": [
    {
     "name": "stdout",
     "output_type": "stream",
     "text": [
      "bob@example.com\n",
      "{'Alice': 'alice@example.com', 'Bob': 'bob@example.com', 'Carol': 'carol@example.com'}\n"
     ]
    }
   ],
   "source": [
    "contatos = {\"Alice\": \"alice@example.com\", \"Bob\": \"bob@example.com\"}\n",
    "print (contatos[\"Bob\"])\n",
    "contatos[\"Carol\"] = \"carol@example.com\"\n",
    "print(contatos)"
   ]
  },
  {
   "cell_type": "markdown",
   "metadata": {},
   "source": [
    "Utilize pop() com a chave \n",
    "ou del para remover um par chave-valor."
   ]
  },
  {
   "cell_type": "code",
   "execution_count": 20,
   "metadata": {},
   "outputs": [
    {
     "name": "stdout",
     "output_type": "stream",
     "text": [
      "{'Carol': 'carol@example.com'}\n"
     ]
    }
   ],
   "source": [
    "email_bob = contatos.pop(\"Bob\")\n",
    "del contatos[\"Alice\"]\n",
    "print(contatos)"
   ]
  },
  {
   "cell_type": "markdown",
   "metadata": {},
   "source": [
    "Atribua um novo valor a uma chave existente."
   ]
  },
  {
   "cell_type": "code",
   "execution_count": 21,
   "metadata": {},
   "outputs": [
    {
     "name": "stdout",
     "output_type": "stream",
     "text": [
      "{'Carol': 'new_carol@example.com'}\n"
     ]
    }
   ],
   "source": [
    "contatos[\"Carol\"] = \"new_carol@example.com\"\n",
    "print(contatos)"
   ]
  },
  {
   "cell_type": "markdown",
   "metadata": {},
   "source": [
    "# Exercícios"
   ]
  },
  {
   "cell_type": "markdown",
   "metadata": {},
   "source": [
    "Exercício Listas\n",
    "\n",
    "Inicialize uma lista de 20 números inteiros. Armazene\n",
    "os números pares em uma lista PAR e os números\n",
    "ímpares em uma lista IMPAR. Imprima as listas PAR\n",
    "e IMPAR."
   ]
  },
  {
   "cell_type": "code",
   "execution_count": 26,
   "metadata": {},
   "outputs": [
    {
     "name": "stdout",
     "output_type": "stream",
     "text": [
      "[94, 3, 89, 95, 65, 99, 98, 22, 7, 30, 75, 56, 74, 18, 42, 75, 57, 65, 49, 46]\n",
      "[94, 98, 22, 30, 56, 74, 18, 42, 46]\n",
      "[3, 89, 95, 65, 99, 7, 75, 75, 57, 65, 49]\n"
     ]
    }
   ],
   "source": [
    "import random\n",
    "lista = [random.randint(1,100) for _ in range(20)]\n",
    "par = []\n",
    "impar = []\n",
    "for numero in lista:\n",
    "    if numero % 2 == 0:\n",
    "        par.append(numero)\n",
    "    else:\n",
    "        impar.append(numero)\n",
    "\n",
    "print(f\"{lista}\\n{par}\\n{impar}\")"
   ]
  },
  {
   "cell_type": "markdown",
   "metadata": {},
   "source": [
    "Exercício Tuplas\n",
    "\n",
    "Crie uma tupla com nomes de frutas e realize as seguintes operações:\n",
    "\n",
    "* Acesse o segundo elemento da tupla.\n",
    "* Tente modificar o primeiro elemento (isso deve gerar um erro).\n",
    "* Verifique o comprimento da tupla."
   ]
  },
  {
   "cell_type": "code",
   "execution_count": 29,
   "metadata": {},
   "outputs": [
    {
     "name": "stdout",
     "output_type": "stream",
     "text": [
      "maçã\n",
      "3\n"
     ]
    }
   ],
   "source": [
    "tupla = (\"banana\", \"maçã\", \"pera\")\n",
    "print(tupla[1])\n",
    "print(len(tupla))"
   ]
  },
  {
   "cell_type": "markdown",
   "metadata": {},
   "source": [
    "Exercício Conjuntos\n",
    "\n",
    "Crie dois conjuntos com números inteiros e realize as seguintes operações:\n",
    "\n",
    "* Realize a união dos dois conjuntos.\n",
    "* Realize a interseção dos dois conjuntos.\n",
    "* Adicione um novo número a um dos conjuntos.\n",
    "* Remova um número de um dos conjuntos."
   ]
  },
  {
   "cell_type": "code",
   "execution_count": 5,
   "metadata": {},
   "outputs": [
    {
     "name": "stdout",
     "output_type": "stream",
     "text": [
      "{2, 3}\n",
      "{2, 4}\n",
      "União: {2, 3, 4}\n",
      "Interseção: {2}\n",
      "Conjunto 1 após adicionar o número 7: {2, 3, 7}\n",
      "Conjunto 2 após remover o número 5: {2, 4}\n"
     ]
    }
   ],
   "source": [
    "import random\n",
    "conjunto1 = {random.randint(1,5) for _ in range(3)}\n",
    "conjunto2 = {random.randint(1,5) for _ in range(3)}\n",
    "print(conjunto1)\n",
    "print(conjunto2)\n",
    "\n",
    "uniao = conjunto1.union(conjunto2)\n",
    "print(\"União:\", uniao)\n",
    "\n",
    "intersecao = conjunto1.intersection(conjunto2)\n",
    "print(\"Interseção:\", intersecao)\n",
    "\n",
    "conjunto1.add(7)\n",
    "print(\"Conjunto 1 após adicionar o número 7:\", conjunto1)\n",
    "\n",
    "conjunto2.discard(5)\n",
    "print(\"Conjunto 2 após remover o número 5:\", conjunto2)"
   ]
  },
  {
   "cell_type": "markdown",
   "metadata": {},
   "source": [
    "Exercício Dicionários\n",
    "\n",
    "Crie um dicionário com palavras e suas respectivas definições. Realize as seguintes operações:\n",
    "\n",
    "* Acesse a definição de uma palavra.\n",
    "* Adicione uma nova palavra ao dicionário.\n",
    "* Modifique a definição de uma palavra existente.\n",
    "* Remova uma palavra do dicionário."
   ]
  },
  {
   "cell_type": "code",
   "execution_count": 10,
   "metadata": {},
   "outputs": [
    {
     "name": "stdout",
     "output_type": "stream",
     "text": [
      "Rota a seguir\n",
      "{'Garrafa': 'Contêiner de uso pessoal para líquidos', 'Pet': 'Garrafa de plástico ou animal'}\n"
     ]
    }
   ],
   "source": [
    "dicionario = {\n",
    "    \"Caminho\" : \"Rota a seguir\",\n",
    "    \"Garrafa\" : \"Contêiner de uso pessoal para líquidos\"\n",
    "}\n",
    "print(dicionario[\"Caminho\"])\n",
    "dicionario[\"Pet\"] = \"Garrafa de plástico ou animal\"\n",
    "dicionario[\"Caminho\"] = \"Percurso a seguir\"\n",
    "del dicionario[\"Caminho\"]\n",
    "print(dicionario)"
   ]
  }
 ],
 "metadata": {
  "kernelspec": {
   "display_name": "Python 3",
   "language": "python",
   "name": "python3"
  },
  "language_info": {
   "codemirror_mode": {
    "name": "ipython",
    "version": 3
   },
   "file_extension": ".py",
   "mimetype": "text/x-python",
   "name": "python",
   "nbconvert_exporter": "python",
   "pygments_lexer": "ipython3",
   "version": "3.13.0"
  }
 },
 "nbformat": 4,
 "nbformat_minor": 2
}
