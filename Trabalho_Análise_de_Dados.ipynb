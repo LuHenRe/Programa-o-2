{
 "cells": [
  {
   "cell_type": "markdown",
   "metadata": {},
   "source": [
    "# **Trabalho de Análise de Dados - Programação de Computadores II (PCII)**\n",
    "### **Análise de um banco de dados sobre indicados e vencedores ao Oscar**\n",
    "\n",
    "**Objetivo:**\n",
    "\n",
    "- O trabalho tem como intuito averiguar a relação dos vencedores e indicados ao Oscar com o sucesso de bilheteria."
   ]
  },
  {
   "cell_type": "markdown",
   "metadata": {},
   "source": [
    "Inserção do arquivo csv original (df_oscar = 'the_oscar_award'), agora filrado (df_oscar_filtrado), em um novo arquivo csv 'the_oscar.csv'."
   ]
  },
  {
   "cell_type": "code",
   "execution_count": null,
   "metadata": {},
   "outputs": [],
   "source": [
    "import pandas as pd\n",
    "\n",
    "\n",
    "# lendo o csv\n",
    "df_oscar = pd.read_csv('the_oscar_award.csv')\n",
    "\n",
    "# filtrando o csv\n",
    "df_oscar_filtrado = [\n",
    "   df_oscar['film'].notna() &\n",
    "   df_oscar['year_film'].notna() &\n",
    "   (df_oscar['category'] == 'BEST PICTURE') &\n",
    "   df_oscar['year_ceremony'].notna() &\n",
    "   (df_oscar['year_film'] >= 2004) &\n",
    "   (df_oscar['year_film'] <= 2024)\n",
    "]\n",
    "\n",
    "df_oscar_filtrado = df_oscar_filtrado['film', 'year_film', 'category', 'year_ceremony', 'winner']\n",
    "\n",
    "# salvando o csv filtrado em um novo arquivo\n",
    "df_oscar_filtrado.to_csv('the_oscar.csv', None)\n",
    "\n",
    "# o arquivo csv foi manualmente adicionando a coluna boxoffice com ajuda da ia deepseek"
   ]
  },
  {
   "cell_type": "markdown",
   "metadata": {},
   "source": [
    "Lendo o arquivo e exibindo todas as linhas do data frame"
   ]
  },
  {
   "cell_type": "code",
   "execution_count": null,
   "metadata": {},
   "outputs": [],
   "source": [
    "import pandas as pd\n",
    "import matplotlib.pyplot as plt\n",
    "\n",
    "\n",
    "# lendo o arquivo csv filtrado\n",
    "df_oscar = pd.read_csv(r'the_oscar.csv')\n",
    "\n",
    "# exibindo todas as linhas do data frame\n",
    "pd.set_option('display.max_rows', None)\n",
    "print(df_oscar)"
   ]
  },
  {
   "cell_type": "markdown",
   "metadata": {},
   "source": [
    "Diferenciando os indicados dos vencedores e selecionando os principais"
   ]
  },
  {
   "cell_type": "code",
   "execution_count": null,
   "metadata": {},
   "outputs": [],
   "source": [
    "# separando os vencedores dos indicados\n",
    "df_vencedores = df_oscar[df_oscar['winner'] == True]\n",
    "df_indicados = df_oscar[df_oscar['winner'] == False]\n",
    "\n",
    "# selecionando os top 20 vencdeores e indicados com maior bilheteria\n",
    "df_vencedores_top20 = df_vencedores.nlargest(20, 'boxoffice')\n",
    "df_indicados_top20 = df_indicados.nlargest(20, 'boxoffice')"
   ]
  },
  {
   "cell_type": "markdown",
   "metadata": {},
   "source": [
    "Cálculo de skew (assimetria) da bilheteria"
   ]
  },
  {
   "cell_type": "code",
   "execution_count": null,
   "metadata": {},
   "outputs": [],
   "source": [
    "# calculando o skew (assimetria) da bilheteria para vencedores e indicados\n",
    "skew_vencedores = df_vencedores['boxoffice'].skew()\n",
    "skew_indicados = df_indicados['boxoffice'].skew()"
   ]
  },
  {
   "cell_type": "markdown",
   "metadata": {},
   "source": [
    "- Cálculo da relação dos vencedores e a bilheteria;\n",
    "\n",
    "- Cálculo da média de bilheteria de vencedores e de indicados;\n",
    "\n",
    "- Agrupamento da bilheteria média de ambos"
   ]
  },
  {
   "cell_type": "code",
   "execution_count": null,
   "metadata": {},
   "outputs": [],
   "source": [
    "# calculando a correlação entre vencer o Oscar e bilheteria\n",
    "correlacao = df_oscar[['winner', 'boxoffice']].corr()\n",
    "\n",
    "# calculando a média da bilheteria de vencedores e indicados\n",
    "media_vencedores = df_vencedores['boxoffice'].mean()\n",
    "media_indicados = df_indicados['boxoffice'].mean()\n",
    "\n",
    "# agrupando a bilheteria média por ano de vencedores e indicados\n",
    "bilheteria_por_ano_vencedores = df_vencedores.groupby('year_film')['boxoffice'].mean()\n",
    "bilheteria_por_ano_indicados = df_indicados.groupby('year_film')['boxoffice'].mean()"
   ]
  },
  {
   "cell_type": "markdown",
   "metadata": {},
   "source": [
    "Criação e impressão de um gráfico de barras sobre os top 20 (filmes) vencedores de maior bilheteria"
   ]
  },
  {
   "cell_type": "code",
   "execution_count": null,
   "metadata": {},
   "outputs": [],
   "source": [
    "# criando um gráfico de barras para os top 20 filmes vencedores com maior bilheteria\n",
    "plt.figure(figsize=(12, 6))\n",
    "plt.bar(df_vencedores_top20['film'], df_vencedores_top20['boxoffice'], color='gold')\n",
    "plt.title('Top 20 filmes vencedores de Oscar com maior bilheteria')\n",
    "plt.xlabel('Filmes')\n",
    "plt.ylabel('Bilheteria')\n",
    "plt.xticks(rotation=90)\n",
    "plt.ticklabel_format(style='plain', axis='y')\n",
    "plt.tight_layout()\n",
    "plt.show()"
   ]
  },
  {
   "cell_type": "markdown",
   "metadata": {},
   "source": [
    "Criação e impressão de um gráfico de barras sobre os top 20 (filmes) vindicados de maior bilheteria"
   ]
  },
  {
   "cell_type": "code",
   "execution_count": null,
   "metadata": {},
   "outputs": [],
   "source": [
    "# criando um gráfico de barras para os top 20 filmes indicados com maior bilheteria\n",
    "plt.figure(figsize=(12, 6))\n",
    "plt.bar(df_indicados_top20['film'], df_indicados_top20['boxoffice'], color='limegreen')\n",
    "plt.title('Top 20 filmes indicados ao Oscar com maior bilheteria')\n",
    "plt.xlabel('Filmes')\n",
    "plt.ylabel('Bilheteria')\n",
    "plt.xticks(rotation=90)\n",
    "plt.ticklabel_format(style='plain', axis='y')\n",
    "plt.tight_layout()\n",
    "plt.show()"
   ]
  },
  {
   "cell_type": "markdown",
   "metadata": {},
   "source": [
    "Gráfico de barras que compara a média de bilheteria de ambos"
   ]
  },
  {
   "cell_type": "code",
   "execution_count": null,
   "metadata": {},
   "outputs": [],
   "source": [
    "# criando um gráfico de barras para comparar a média da bilheteria entre vencedores e indicados\n",
    "plt.figure(figsize=(12, 6))\n",
    "cores = ['gold', 'limegreen']\n",
    "plt.bar(\n",
    "    ['Vencedores', 'Indicados'],\n",
    "    [media_vencedores, media_indicados],\n",
    "    label=['Vencedores', 'Indicados'],\n",
    "    color=cores\n",
    ")\n",
    "plt.title('Média da Bilheteira (Vencedores x Indicados)')\n",
    "plt.ylabel('Bilheteira Média')\n",
    "plt.ticklabel_format(style='plain', axis='y')\n",
    "plt.legend(loc='best')\n",
    "plt.show()"
   ]
  },
  {
   "cell_type": "markdown",
   "metadata": {},
   "source": [
    "Gráfico de linha que demonstra a evolução de bilheteria médio com o passar do anos"
   ]
  },
  {
   "cell_type": "code",
   "execution_count": null,
   "metadata": {},
   "outputs": [],
   "source": [
    "# criando um gráfico de linha para mostrar a evolução da bilheteria média ao longo dos anos\n",
    "plt.figure(figsize=(12, 6))\n",
    "plt.plot(\n",
    "    bilheteria_por_ano_vencedores.index,\n",
    "    bilheteria_por_ano_vencedores,\n",
    "    label='Vencedores',\n",
    "    color='gold',\n",
    "    marker='o'\n",
    ")\n",
    "plt.plot(\n",
    "    bilheteria_por_ano_indicados.index,\n",
    "    bilheteria_por_ano_indicados,\n",
    "    label='Indicados',\n",
    "    color='limegreen',\n",
    "    marker='o'\n",
    ")\n",
    "plt.title('Evolução das bilheteria média ao longo dos anos (Vencedores x Indicados)')\n",
    "plt.xlabel('Ano')\n",
    "plt.ylabel('Bilheteria Média')\n",
    "plt.ticklabel_format(style='plain', axis='y')\n",
    "plt.grid(linestyle='--', alpha=0.7)\n",
    "plt.legend(loc='best')\n",
    "plt.tight_layout()\n",
    "plt.show()"
   ]
  },
  {
   "cell_type": "markdown",
   "metadata": {},
   "source": [
    "Gráfico de pizza sobre a proporção de vencedores e indicados (Quantos indicados e quantos vencedores existem no total)"
   ]
  },
  {
   "cell_type": "code",
   "execution_count": null,
   "metadata": {},
   "outputs": [],
   "source": [
    "# criando um gráfico de pizza para mostrar a proporção de vencedores e indicados\n",
    "plt.figure(figsize=(12, 6))\n",
    "contador = df_oscar['winner'].value_counts()\n",
    "cores = ['lightcoral', 'lightgreen']\n",
    "plt.pie(\n",
    "    contador,\n",
    "    labels=['Indicados', 'Vencedores'],\n",
    "    autopct='%1.1f%%',\n",
    "    colors=cores\n",
    ")\n",
    "plt.title('Proporção de vencedores e indicados')\n",
    "plt.legend(loc='best')\n",
    "plt.show()"
   ]
  },
  {
   "cell_type": "markdown",
   "metadata": {},
   "source": [
    "Considerações finais - com valores dos cálculos"
   ]
  },
  {
   "cell_type": "code",
   "execution_count": null,
   "metadata": {},
   "outputs": [],
   "source": [
    "# exibindo considerações finais com valores dos cálculos\n",
    "print('Considerações finais')\n",
    "print(f'Skew da bilheteria dos vencedores: {skew_vencedores:.2f}')\n",
    "print(f'Skew da bilheteria dos indicados: {skew_indicados:.2f}')\n",
    "print(f'Correlação entre vencer e bilheteria: \\n{correlacao}')"
   ]
  },
  {
   "cell_type": "markdown",
   "metadata": {},
   "source": [
    "## Código completo"
   ]
  },
  {
   "cell_type": "markdown",
   "metadata": {},
   "source": [
    "Código para inserção em novo arquivo csv"
   ]
  },
  {
   "cell_type": "code",
   "execution_count": null,
   "metadata": {},
   "outputs": [],
   "source": [
    "import pandas as pd\n",
    "\n",
    "\n",
    "# lendo o csv\n",
    "df_oscar = pd.read_csv('the_oscar_award.csv')\n",
    "\n",
    "# filtrando o csv\n",
    "df_oscar_filtrado = [\n",
    "   df_oscar['film'].notna() &\n",
    "   df_oscar['year_film'].notna() &\n",
    "   (df_oscar['category'] == 'BEST PICTURE') &\n",
    "   df_oscar['year_ceremony'].notna() &\n",
    "   (df_oscar['year_film'] >= 2004) &\n",
    "   (df_oscar['year_film'] <= 2024)\n",
    "]\n",
    "\n",
    "df_oscar_filtrado = df_oscar_filtrado['film', 'year_film', 'category', 'year_ceremony', 'winner']\n",
    "\n",
    "# salvando o csv filtrado em um novo arquivo\n",
    "df_oscar_filtrado.to_csv('the_oscar.csv', None)\n",
    "\n",
    "# o arquivo csv foi manualmente adicionando a coluna boxoffice com ajuda da ia deepseek"
   ]
  },
  {
   "cell_type": "markdown",
   "metadata": {},
   "source": [
    "Código completo pós-inserção do novo arquivo csv"
   ]
  },
  {
   "cell_type": "code",
   "execution_count": null,
   "metadata": {},
   "outputs": [],
   "source": [
    "import pandas as pd\n",
    "import matplotlib.pyplot as plt\n",
    "\n",
    "\n",
    "# lendo o arquivo csv filtrado\n",
    "df_oscar = pd.read_csv(r'the_oscar.csv')\n",
    "\n",
    "# exibindo todas as linhas do data frame\n",
    "pd.set_option('display.max_rows', None)\n",
    "print(df_oscar)\n",
    "\n",
    "# separando os vencedores dos indicados\n",
    "df_vencedores = df_oscar[df_oscar['winner'] == True]\n",
    "df_indicados = df_oscar[df_oscar['winner'] == False]\n",
    "\n",
    "# selecionando os top 20 vencdeores e indicados com maior bilheteria\n",
    "df_vencedores_top20 = df_vencedores.nlargest(20, 'boxoffice')\n",
    "df_indicados_top20 = df_indicados.nlargest(20, 'boxoffice')\n",
    "\n",
    "# calculando o skew (assimetria) da bilheteria para vencedores e indicados\n",
    "skew_vencedores = df_vencedores['boxoffice'].skew()\n",
    "skew_indicados = df_indicados['boxoffice'].skew()\n",
    "\n",
    "# calculando a correlação entre vencer o Oscar e bilheteria\n",
    "correlacao = df_oscar[['winner', 'boxoffice']].corr()\n",
    "\n",
    "# calculando a média da bilheteria de vencedores e indicados\n",
    "media_vencedores = df_vencedores['boxoffice'].mean()\n",
    "media_indicados = df_indicados['boxoffice'].mean()\n",
    "\n",
    "# agrupando a bilheteria média por ano de vencedores e indicados\n",
    "bilheteria_por_ano_vencedores = df_vencedores.groupby('year_film')['boxoffice'].mean()\n",
    "bilheteria_por_ano_indicados = df_indicados.groupby('year_film')['boxoffice'].mean()\n",
    "\n",
    "# criando um gráfico de barras para os top 20 filmes vencedores com maior bilheteria\n",
    "plt.figure(figsize=(12, 6))\n",
    "plt.bar(df_vencedores_top20['film'], df_vencedores_top20['boxoffice'], color='gold')\n",
    "plt.title('Top 20 filmes vencedores de Oscar com maior bilheteria')\n",
    "plt.xlabel('Filmes')\n",
    "plt.ylabel('Bilheteria')\n",
    "plt.xticks(rotation=90)\n",
    "plt.ticklabel_format(style='plain', axis='y')\n",
    "plt.tight_layout()\n",
    "plt.show()\n",
    "\n",
    "# criando um gráfico de barras para os top 20 filmes indicados com maior bilheteria\n",
    "plt.figure(figsize=(12, 6))\n",
    "plt.bar(df_indicados_top20['film'], df_indicados_top20['boxoffice'], color='limegreen')\n",
    "plt.title('Top 20 filmes indicados ao Oscar com maior bilheteria')\n",
    "plt.xlabel('Filmes')\n",
    "plt.ylabel('Bilheteria')\n",
    "plt.xticks(rotation=90)\n",
    "plt.ticklabel_format(style='plain', axis='y')\n",
    "plt.tight_layout()\n",
    "plt.show()\n",
    "\n",
    "# criando um gráfico de barras para comparar a média da bilheteria entre vencedores e indicados\n",
    "plt.figure(figsize=(12, 6))\n",
    "cores = ['gold', 'limegreen']\n",
    "plt.bar(\n",
    "    ['Vencedores', 'Indicados'],\n",
    "    [media_vencedores, media_indicados],\n",
    "    label=['Vencedores', 'Indicados'],\n",
    "    color=cores\n",
    ")\n",
    "plt.title('Média da Bilheteira (Vencedores x Indicados)')\n",
    "plt.ylabel('Bilheteira Média')\n",
    "plt.ticklabel_format(style='plain', axis='y')\n",
    "plt.legend(loc='best')\n",
    "plt.show()\n",
    "\n",
    "# criando um gráfico de linha para mostrar a evolução da bilheteria média ao longo dos anos\n",
    "plt.figure(figsize=(12, 6))\n",
    "plt.plot(\n",
    "    bilheteria_por_ano_vencedores.index,\n",
    "    bilheteria_por_ano_vencedores,\n",
    "    label='Vencedores',\n",
    "    color='gold',\n",
    "    marker='o'\n",
    ")\n",
    "plt.plot(\n",
    "    bilheteria_por_ano_indicados.index,\n",
    "    bilheteria_por_ano_indicados,\n",
    "    label='Indicados',\n",
    "    color='limegreen',\n",
    "    marker='o'\n",
    ")\n",
    "plt.title('Evolução das bilheteria média ao longo dos anos (Vencedores x Indicados)')\n",
    "plt.xlabel('Ano')\n",
    "plt.ylabel('Bilheteria Média')\n",
    "plt.ticklabel_format(style='plain', axis='y')\n",
    "plt.grid(linestyle='--', alpha=0.7)\n",
    "plt.legend(loc='best')\n",
    "plt.tight_layout()\n",
    "plt.show()\n",
    "\n",
    "# criando um gráfico de pizza para mostrar a proporção de vencedores e indicados\n",
    "plt.figure(figsize=(12, 6))\n",
    "contador = df_oscar['winner'].value_counts()\n",
    "cores = ['lightcoral', 'lightgreen']\n",
    "plt.pie(\n",
    "    contador,\n",
    "    labels=['Indicados', 'Vencedores'],\n",
    "    autopct='%1.1f%%',\n",
    "    colors=cores\n",
    ")\n",
    "plt.title('Proporção de vencedores e indicados')\n",
    "plt.legend(loc='best')\n",
    "plt.show()\n",
    "\n",
    "# exibindo considerações finais com valores dos cálculos\n",
    "print('Considerações finais')\n",
    "print(f'Skew da bilheteria dos vencedores: {skew_vencedores:.2f}')\n",
    "print(f'Skew da bilheteria dos indicados: {skew_indicados:.2f}')\n",
    "print(f'Correlação entre vencer e bilheteria: \\n{correlacao}')"
   ]
  }
 ],
 "metadata": {
  "language_info": {
   "name": "python"
  }
 },
 "nbformat": 4,
 "nbformat_minor": 2
}
