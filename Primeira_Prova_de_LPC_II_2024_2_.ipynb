{
 "cells": [
  {
   "cell_type": "markdown",
   "metadata": {
    "id": "lPnGgjB-huuv"
   },
   "source": [
    "# 1ª Prova de Laboratório de Programação de Computadores II\n",
    "\n",
    "**Instruções:**\n",
    "* Consulta apenas ao material impresso\n",
    "* Ao final da prova salvar o arquivo com seu nome completo separando o sobrenome com underscore. Exemplo: Eduardo_Gomes_Carvalho.ipynb\n",
    "* O professor não está disponível para tirar dúvidas no momento da prova."
   ]
  },
  {
   "cell_type": "markdown",
   "metadata": {
    "id": "EuQx8_8IiUnL"
   },
   "source": [
    "**1ª Questão (6 pontos)**\n",
    "\n",
    "Implemente um programa em Python que execute o seguinte procedimento:\n",
    "\n",
    "\n",
    "1.   Crie uma lista P1 e permita que o usuário insira números inteiros para preenchê-la. O programa deve solicitar ao usuário que insira um número inteiro repetidamente até que o valor 0 seja digitado, o que encerrará a inserção e não deve ser incluído na lista P1. Depois crie uma lista P2 vazia. **(3 pontos)**\n",
    "2.   Implemente a função TrocaLista(P1, P2) que transfere todos os elementos da lista P1 para uma nova lista P2 em ordem inversa. Utilize um laço while dentro da função para remover elementos de P1 e adicioná-los a P2. **(3 pontos)**"
   ]
  },
  {
   "cell_type": "code",
   "execution_count": 14,
   "metadata": {
    "id": "TaJfncrRij0z"
   },
   "outputs": [
    {
     "name": "stdout",
     "output_type": "stream",
     "text": [
      "[1, 2, 3, 4, 5, 6, 7, 8, 9]\n",
      "[]\n",
      "[9, 8, 7, 6, 5, 4, 3, 2, 1]\n"
     ]
    }
   ],
   "source": [
    "def TrocaLista(x1, x2):\n",
    "    while len(x1) > 0:\n",
    "        for _ in range (len(x1)):\n",
    "            x2.append(x1.pop())\n",
    "    return f\"{x1}\\n{x2}\"\n",
    "P1 = []\n",
    "while True:\n",
    "    n = int(input())\n",
    "    P1.append(n)\n",
    "    if n == 0:\n",
    "        P1.pop(-1)\n",
    "        break\n",
    "print(P1)\n",
    "P2 = []\n",
    "print(TrocaLista(P1, P2))"
   ]
  },
  {
   "cell_type": "markdown",
   "metadata": {
    "id": "VrwS2Di2mcu0"
   },
   "source": [
    "**2ª Questão (6 pontos)**\n",
    "\n",
    "Implemente um programa em Python que transforme a lista L=[\"Pedro, 8\", \"João, 9\", \"Paulo, 0\", \"Eduardo, 10\", \"Lázaro, 10\"], que possui o nome do aluno e sua nota em uma prova, separados por vírgula, em um dicionário. Lembre-se que a nota no dicionário deve ser do tipo inteira."
   ]
  },
  {
   "cell_type": "code",
   "execution_count": 20,
   "metadata": {},
   "outputs": [
    {
     "name": "stdout",
     "output_type": "stream",
     "text": [
      "{'Pedro': 8, 'João': 9, 'Paulo': 0, 'Eduardo': 10, 'Lázaro': 10}\n"
     ]
    }
   ],
   "source": [
    "L = [\"Pedro, 8\", \"João, 9\", \"Paulo, 0\", \"Eduardo, 10\", \"Lázaro, 10\"]\n",
    "\n",
    "L_dicionario = {}\n",
    "for item in L:\n",
    "    nome, nota = item.split(\", \")\n",
    "    L_dicionario[nome] = int(nota)\n",
    "\n",
    "print(L_dicionario)"
   ]
  },
  {
   "cell_type": "markdown",
   "metadata": {
    "id": "uAEV-dXooGN3"
   },
   "source": [
    "**3ª Questão (8 pontos)**\n",
    "\n",
    "Implemente a classe para o programa abaixo, considerando que :\n",
    "* abastecerPorValor( ) – verificar se o usuário inseriu um valor menor ou igual a zero e apresentar uma mensagem \"Valor inválido para abastecimento. Imprimir o a litragem e o valor a pagar utilizando 2 casas decimais. **(3 pontos)**\n",
    "* abastecerPorLitro( ) – verificar se o usuário inseriu um valor menor ou igual a zero e apresentar uma mensagem \"Valor inválido para abastecimento. Imprimir o a litragem e o valor a pagar utilizando 2 casas decimais. **(3 pontos)**\n",
    "* a correta criação da classe e do construtor será avaliada em 2 pontos\n",
    "\n",
    "Exemplo de saída:\n",
    "\n",
    "Abastecer por valor (V) ou por litro (L)? L\n",
    "\n",
    "Digite a quantidade de litros desejada: 10\n",
    "\n",
    "Valor a ser pago: R$55.00 por 10.00 litros.\n"
   ]
  },
  {
   "cell_type": "code",
   "execution_count": 42,
   "metadata": {},
   "outputs": [
    {
     "name": "stdout",
     "output_type": "stream",
     "text": [
      "Quantidade insuficiente na bomba.\n"
     ]
    }
   ],
   "source": [
    "class BombaCombustivel:\n",
    "    def __init__(self, tipo_combustivel, preco, quantidade):\n",
    "        self.tipo_combustivel = tipo_combustivel\n",
    "        self.preco = preco\n",
    "        self.quantidade = quantidade\n",
    "\n",
    "    def abastecer_por_valor(self, valor):\n",
    "        litros = valor / self.preco\n",
    "        if litros > self.quantidade:\n",
    "            print(\"Quantidade insuficiente na bomba.\")\n",
    "            return 0\n",
    "        self.quantidade -= litros\n",
    "        return litros\n",
    "\n",
    "    def abastecer_por_litro(self, litros):\n",
    "        if litros > self.quantidade:\n",
    "            print(\"Quantidade insuficiente na bomba.\")\n",
    "            return 0\n",
    "        self.quantidade -= litros\n",
    "        return litros * self.preco\n",
    "\n",
    "# Exemplo de uso\n",
    "bomba = BombaCombustivel(\"Gasolina\", 5.50, 1000)\n",
    "\n",
    "opcao = input(\"Abastecer por valor (V) ou por litro (L)? \").upper()\n",
    "\n",
    "if opcao == \"V\":\n",
    "    valor = float(input(\"Digite o valor a ser abastecido: \"))\n",
    "    litros_abastecidos = bomba.abastecer_por_valor(valor)\n",
    "    if litros_abastecidos > 0:\n",
    "        print(f\"Você abasteceu {litros_abastecidos:.2f} litros.\")\n",
    "elif opcao == \"L\":\n",
    "    litros = float(input(\"Digite a quantidade de litros desejada: \"))\n",
    "    valor_a_pagar = bomba.abastecer_por_litro(litros)\n",
    "    if valor_a_pagar > 0:\n",
    "        print(f\"Você irá pagar R${valor_a_pagar:.2f}.\")\n",
    "else:\n",
    "    print(\"Opção inválida.\")"
   ]
  },
  {
   "cell_type": "code",
   "execution_count": 45,
   "metadata": {
    "id": "LMZ2aQttooMB"
   },
   "outputs": [
    {
     "name": "stdout",
     "output_type": "stream",
     "text": [
      "Quantidade insuficiente na bomba.\n",
      "Valor inválidado para abastecimento.\n"
     ]
    }
   ],
   "source": [
    "# Criar a classe aqui\n",
    "class bombaCombustivel:\n",
    "    def __init__(self, gasolina, preco, quantidade):\n",
    "        self.gasolina = gasolina\n",
    "        self.preco = preco\n",
    "        self.quantidade = quantidade\n",
    "\n",
    "    def abastecerPorValor(self, valor):\n",
    "        litros = valor / self.preco\n",
    "        if litros > self.quantidade:\n",
    "            print(\"Quantidade insuficiente na bomba.\")\n",
    "            return 0\n",
    "        self.quantidade -= litros\n",
    "        return litros\n",
    "\n",
    "    def abastecerPorLitro(self, litros):\n",
    "        if litros > self.quantidade:\n",
    "            print(\"Quantidade insuficiente na bomba.\")\n",
    "            return 0\n",
    "        self.quantidade -= litros\n",
    "        return litros * 5.50\n",
    "\n",
    "# Exemplo de uso\n",
    "abastecimento = bombaCombustivel(\"Gasolina\", 5.50, 1000)\n",
    "\n",
    "opcao = input(\"Abastecer por valor (V) ou por litro (L)? \").upper()\n",
    "\n",
    "if opcao == \"V\":\n",
    "    valor = float(input(\"Digite o valor a ser abastecido: \"))\n",
    "    pagamento = abastecimento.abastecerPorValor(valor)\n",
    "    if pagamento > 0:\n",
    "        print(f\"Você abasteceu {pagamento:.2f} litros\")\n",
    "    else:\n",
    "        print(\"Valor inválidado para abastecimento.\")\n",
    "elif opcao == \"L\":\n",
    "    litros = float(input(\"Digite a quantidade de litros desejada: \"))\n",
    "    pagamento = abastecimento.abastecerPorLitro(litros)\n",
    "    if pagamento > 0:\n",
    "        print(f\"Você irá pagar R${pagamento:.2f}.\")\n",
    "    else:\n",
    "        print(\"Valor inválidado para abastecimento.\")\n",
    "else:\n",
    "    print(\"Opção inválida.\")"
   ]
  },
  {
   "cell_type": "markdown",
   "metadata": {
    "id": "EkmM_Krer6Qo"
   },
   "source": [
    "**4ª Questão (5 pontos)**\n",
    "\n",
    "Corrija o programa abaixo, de forma que ele execute corretamente. Ao final ele deve imprimir:\n",
    "\n",
    "Total da compra: 6.0"
   ]
  },
  {
   "cell_type": "code",
   "execution_count": 24,
   "metadata": {
    "id": "9UZg2KJ0wxil"
   },
   "outputs": [
    {
     "name": "stdout",
     "output_type": "stream",
     "text": [
      "Total da compra: 6.0\n"
     ]
    }
   ],
   "source": [
    "class CarrinhoCompras:\n",
    "    def __init__(self):\n",
    "        self.itens = []\n",
    "\n",
    "    def adicionar_item(self, nome, quantidade, preco_unitario):\n",
    "        if quantidade <= 0:\n",
    "            print(\"Erro: A quantidade deve ser positiva.\")\n",
    "            return\n",
    "        self.itens.append({\"nome\": nome, \"quantidade\": quantidade, \"preco_unitario\": preco_unitario})\n",
    "\n",
    "    def calcular_total(self):\n",
    "        total = 0\n",
    "        for item in self.itens:\n",
    "            total += item[\"quantidade\"] * item[\"preco_unitario\"]\n",
    "        return total\n",
    "\n",
    "    def __del__(self):\n",
    "        print(\"Carrinho de compras foi destruído.\")\n",
    "\n",
    "carrinho = CarrinhoCompras()\n",
    "carrinho.adicionar_item(\"Maçã\", 3, 1.5)\n",
    "carrinho.adicionar_item(\"Banana\", 2, 0.75)\n",
    "\n",
    "total = carrinho.calcular_total()\n",
    "print(\"Total da compra:\", total)\n"
   ]
  }
 ],
 "metadata": {
  "colab": {
   "provenance": []
  },
  "kernelspec": {
   "display_name": "Python 3",
   "name": "python3"
  },
  "language_info": {
   "codemirror_mode": {
    "name": "ipython",
    "version": 3
   },
   "file_extension": ".py",
   "mimetype": "text/x-python",
   "name": "python",
   "nbconvert_exporter": "python",
   "pygments_lexer": "ipython3",
   "version": "3.13.0"
  }
 },
 "nbformat": 4,
 "nbformat_minor": 0
}
